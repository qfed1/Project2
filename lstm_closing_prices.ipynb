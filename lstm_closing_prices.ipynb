{
 "cells": [
  {
   "cell_type": "code",
   "execution_count": 10,
   "id": "0e69fc27",
   "metadata": {},
   "outputs": [],
   "source": [
    "import numpy as np\n",
    "import pandas as pd\n",
    "import hvplot.pandas"
   ]
  },
  {
   "cell_type": "code",
   "execution_count": 11,
   "id": "751d7648",
   "metadata": {},
   "outputs": [],
   "source": [
    "# Set the random seed for reproducibility\n",
    "# Note: This is for the homework solution, but it is good practice to comment this out and run multiple experiments to evaluate your model\n",
    "from numpy.random import seed\n",
    "seed(1)\n",
    "from tensorflow import random\n",
    "random.set_seed(2)"
   ]
  },
  {
   "cell_type": "code",
   "execution_count": 12,
   "id": "bcd7039b",
   "metadata": {},
   "outputs": [
    {
     "data": {
      "text/html": [
       "<div>\n",
       "<style scoped>\n",
       "    .dataframe tbody tr th:only-of-type {\n",
       "        vertical-align: middle;\n",
       "    }\n",
       "\n",
       "    .dataframe tbody tr th {\n",
       "        vertical-align: top;\n",
       "    }\n",
       "\n",
       "    .dataframe thead th {\n",
       "        text-align: right;\n",
       "    }\n",
       "</style>\n",
       "<table border=\"1\" class=\"dataframe\">\n",
       "  <thead>\n",
       "    <tr style=\"text-align: right;\">\n",
       "      <th></th>\n",
       "      <th>fng_value</th>\n",
       "    </tr>\n",
       "    <tr>\n",
       "      <th>date</th>\n",
       "      <th></th>\n",
       "    </tr>\n",
       "  </thead>\n",
       "  <tbody>\n",
       "    <tr>\n",
       "      <th>2019-07-29</th>\n",
       "      <td>19</td>\n",
       "    </tr>\n",
       "    <tr>\n",
       "      <th>2019-07-28</th>\n",
       "      <td>16</td>\n",
       "    </tr>\n",
       "    <tr>\n",
       "      <th>2019-07-27</th>\n",
       "      <td>47</td>\n",
       "    </tr>\n",
       "    <tr>\n",
       "      <th>2019-07-26</th>\n",
       "      <td>24</td>\n",
       "    </tr>\n",
       "    <tr>\n",
       "      <th>2019-07-25</th>\n",
       "      <td>42</td>\n",
       "    </tr>\n",
       "  </tbody>\n",
       "</table>\n",
       "</div>"
      ],
      "text/plain": [
       "            fng_value\n",
       "date                 \n",
       "2019-07-29         19\n",
       "2019-07-28         16\n",
       "2019-07-27         47\n",
       "2019-07-26         24\n",
       "2019-07-25         42"
      ]
     },
     "execution_count": 12,
     "metadata": {},
     "output_type": "execute_result"
    }
   ],
   "source": [
    "# Load the fear and greed sentiment data for Bitcoin\n",
    "df = pd.read_csv('btc_history_sentiment.csv', index_col = \"date\", infer_datetime_format=True, parse_dates=True)\n",
    "df = df.drop(columns = \"fng_classification\")\n",
    "df = df.drop('Unnamed: 3', axis=1)\n",
    "df.head()"
   ]
  },
  {
   "cell_type": "code",
   "execution_count": 13,
   "id": "de3750c0",
   "metadata": {},
   "outputs": [
    {
     "data": {
      "text/plain": [
       "Date\n",
       "2019-07-25    9882.429688\n",
       "2019-07-26    9847.450195\n",
       "2019-07-27    9478.320313\n",
       "2019-07-28    9531.769531\n",
       "2019-07-29    9529.889648\n",
       "Name: Close, dtype: float64"
      ]
     },
     "execution_count": 13,
     "metadata": {},
     "output_type": "execute_result"
    }
   ],
   "source": [
    "# Load the historical closing prices for bitcoin\n",
    "df2 = pd.read_csv('btc_price_data.csv', index_col = \"Date\", infer_datetime_format=True, parse_dates=True)['Close']\n",
    "df2 = df2.sort_index()\n",
    "df2.tail()"
   ]
  },
  {
   "cell_type": "code",
   "execution_count": 14,
   "id": "4507356e",
   "metadata": {},
   "outputs": [
    {
     "data": {
      "text/html": [
       "<div>\n",
       "<style scoped>\n",
       "    .dataframe tbody tr th:only-of-type {\n",
       "        vertical-align: middle;\n",
       "    }\n",
       "\n",
       "    .dataframe tbody tr th {\n",
       "        vertical-align: top;\n",
       "    }\n",
       "\n",
       "    .dataframe thead th {\n",
       "        text-align: right;\n",
       "    }\n",
       "</style>\n",
       "<table border=\"1\" class=\"dataframe\">\n",
       "  <thead>\n",
       "    <tr style=\"text-align: right;\">\n",
       "      <th></th>\n",
       "      <th>fng_value</th>\n",
       "      <th>Close</th>\n",
       "    </tr>\n",
       "  </thead>\n",
       "  <tbody>\n",
       "    <tr>\n",
       "      <th>2019-07-25</th>\n",
       "      <td>42</td>\n",
       "      <td>9882.429688</td>\n",
       "    </tr>\n",
       "    <tr>\n",
       "      <th>2019-07-26</th>\n",
       "      <td>24</td>\n",
       "      <td>9847.450195</td>\n",
       "    </tr>\n",
       "    <tr>\n",
       "      <th>2019-07-27</th>\n",
       "      <td>47</td>\n",
       "      <td>9478.320313</td>\n",
       "    </tr>\n",
       "    <tr>\n",
       "      <th>2019-07-28</th>\n",
       "      <td>16</td>\n",
       "      <td>9531.769531</td>\n",
       "    </tr>\n",
       "    <tr>\n",
       "      <th>2019-07-29</th>\n",
       "      <td>19</td>\n",
       "      <td>9529.889648</td>\n",
       "    </tr>\n",
       "  </tbody>\n",
       "</table>\n",
       "</div>"
      ],
      "text/plain": [
       "            fng_value        Close\n",
       "2019-07-25         42  9882.429688\n",
       "2019-07-26         24  9847.450195\n",
       "2019-07-27         47  9478.320313\n",
       "2019-07-28         16  9531.769531\n",
       "2019-07-29         19  9529.889648"
      ]
     },
     "execution_count": 14,
     "metadata": {},
     "output_type": "execute_result"
    }
   ],
   "source": [
    "# Join the data into a single DataFrame\n",
    "df = df.join(df2, how = \"inner\")\n",
    "df.tail()"
   ]
  },
  {
   "cell_type": "code",
   "execution_count": 15,
   "id": "54ebac15",
   "metadata": {},
   "outputs": [
    {
     "data": {
      "text/html": [
       "<div>\n",
       "<style scoped>\n",
       "    .dataframe tbody tr th:only-of-type {\n",
       "        vertical-align: middle;\n",
       "    }\n",
       "\n",
       "    .dataframe tbody tr th {\n",
       "        vertical-align: top;\n",
       "    }\n",
       "\n",
       "    .dataframe thead th {\n",
       "        text-align: right;\n",
       "    }\n",
       "</style>\n",
       "<table border=\"1\" class=\"dataframe\">\n",
       "  <thead>\n",
       "    <tr style=\"text-align: right;\">\n",
       "      <th></th>\n",
       "      <th>fng_value</th>\n",
       "      <th>Close</th>\n",
       "    </tr>\n",
       "  </thead>\n",
       "  <tbody>\n",
       "    <tr>\n",
       "      <th>2018-01-02</th>\n",
       "      <td>30</td>\n",
       "      <td>14754.12988</td>\n",
       "    </tr>\n",
       "    <tr>\n",
       "      <th>2018-01-03</th>\n",
       "      <td>38</td>\n",
       "      <td>15156.62012</td>\n",
       "    </tr>\n",
       "    <tr>\n",
       "      <th>2018-01-04</th>\n",
       "      <td>16</td>\n",
       "      <td>15180.08008</td>\n",
       "    </tr>\n",
       "    <tr>\n",
       "      <th>2018-01-05</th>\n",
       "      <td>56</td>\n",
       "      <td>16954.77930</td>\n",
       "    </tr>\n",
       "    <tr>\n",
       "      <th>2018-01-06</th>\n",
       "      <td>24</td>\n",
       "      <td>17172.30078</td>\n",
       "    </tr>\n",
       "  </tbody>\n",
       "</table>\n",
       "</div>"
      ],
      "text/plain": [
       "            fng_value        Close\n",
       "2018-01-02         30  14754.12988\n",
       "2018-01-03         38  15156.62012\n",
       "2018-01-04         16  15180.08008\n",
       "2018-01-05         56  16954.77930\n",
       "2018-01-06         24  17172.30078"
      ]
     },
     "execution_count": 15,
     "metadata": {},
     "output_type": "execute_result"
    }
   ],
   "source": [
    "df.head()"
   ]
  },
  {
   "cell_type": "code",
   "execution_count": 16,
   "id": "6b7a0195",
   "metadata": {},
   "outputs": [],
   "source": [
    "# This function accepts the column number for the features (X) and the target (y)\n",
    "# It chunks the data up with a rolling window of Xt-n to predict Xt\n",
    "# It returns a numpy array of X any y\n",
    "def window_data(df, window, feature_col_number, target_col_number):\n",
    "    X = []\n",
    "    y = []\n",
    "    for i in range(len(df) - window - 1):\n",
    "        features = df.iloc[i:(i + window), feature_col_number]\n",
    "        target = df.iloc[(i + window), target_col_number]\n",
    "        X.append(features)\n",
    "        y.append(target)\n",
    "    return np.array(X), np.array(y).reshape(-1, 1)"
   ]
  },
  {
   "cell_type": "code",
   "execution_count": 17,
   "id": "2527488b",
   "metadata": {},
   "outputs": [],
   "source": [
    "# Predict Closing Prices using a 10 day window of previous closing prices\n",
    "# Try a window size anywhere from 1 to 10 and see how the model performance changes\n",
    "window_size = 1\n",
    "\n",
    "# Column index 1 is the `Close` column\n",
    "feature_column = 1\n",
    "target_column = 1\n",
    "X, y = window_data(df, window_size, feature_column, target_column)"
   ]
  },
  {
   "cell_type": "code",
   "execution_count": 18,
   "id": "5f8541a8",
   "metadata": {},
   "outputs": [],
   "source": [
    "# Use 70% of the data for training and the remaineder for testing\n",
    "split = int(0.7 * len(X))\n",
    "X_train = X[: split - 1]\n",
    "X_test = X[split:]\n",
    "y_train = y[: split - 1]\n",
    "y_test = y[split:]"
   ]
  },
  {
   "cell_type": "code",
   "execution_count": 19,
   "id": "9ef85367",
   "metadata": {},
   "outputs": [],
   "source": [
    "# Use MinMaxScaler to scale the data between 0 and 1. \n",
    "from sklearn.preprocessing import MinMaxScaler\n",
    "\n",
    "scaler = MinMaxScaler()\n",
    "scaler.fit(X)\n",
    "X_train = scaler.transform(X_train)\n",
    "X_test = scaler.transform(X_test)\n",
    "scaler.fit(y)\n",
    "y_train = scaler.transform(y_train)\n",
    "y_test = scaler.transform(y_test)"
   ]
  },
  {
   "cell_type": "code",
   "execution_count": 20,
   "id": "61a97e29",
   "metadata": {},
   "outputs": [],
   "source": [
    "# Reshape the features for the model\n",
    "X_train = X_train.reshape((X_train.shape[0], X_train.shape[1], 1))\n",
    "X_test = X_test.reshape((X_test.shape[0], X_test.shape[1], 1))"
   ]
  },
  {
   "cell_type": "code",
   "execution_count": null,
   "id": "c647e40b",
   "metadata": {},
   "outputs": [],
   "source": []
  },
  {
   "cell_type": "code",
   "execution_count": 21,
   "id": "c35becf5",
   "metadata": {},
   "outputs": [],
   "source": [
    "from tensorflow.keras.models import Sequential\n",
    "from tensorflow.keras.layers import LSTM, Dense, Dropout"
   ]
  },
  {
   "cell_type": "code",
   "execution_count": 22,
   "id": "8c54a1da",
   "metadata": {},
   "outputs": [],
   "source": [
    "# Build the LSTM model. \n",
    "# The return sequences need to be set to True if you are adding additional LSTM layers, but \n",
    "# You don't have to do this for the final layer. \n",
    "model = Sequential()\n",
    "\n",
    "number_units = 30\n",
    "dropout_fraction = 0.2\n",
    "\n",
    "# Layer 1\n",
    "model.add(LSTM(\n",
    "    units = number_units,\n",
    "    return_sequences = True,\n",
    "    input_shape = (X_train.shape[1], 1))\n",
    "    )\n",
    "model.add(Dropout(dropout_fraction))\n",
    "# Layer 2\n",
    "model.add(LSTM(units = number_units, return_sequences=True))\n",
    "model.add(Dropout(dropout_fraction))\n",
    "# Layer 3\n",
    "model.add(LSTM(units = number_units))\n",
    "model.add(Dropout(dropout_fraction))\n",
    "# Output layer\n",
    "model.add(Dense(1))"
   ]
  },
  {
   "cell_type": "code",
   "execution_count": 23,
   "id": "d9724d77",
   "metadata": {},
   "outputs": [],
   "source": [
    "# Compile the model\n",
    "model.compile(optimizer = \"adam\", loss = \"mean_squared_error\")"
   ]
  },
  {
   "cell_type": "code",
   "execution_count": 24,
   "id": "8f953671",
   "metadata": {},
   "outputs": [
    {
     "name": "stdout",
     "output_type": "stream",
     "text": [
      "Model: \"sequential\"\n",
      "_________________________________________________________________\n",
      " Layer (type)                Output Shape              Param #   \n",
      "=================================================================\n",
      " lstm (LSTM)                 (None, 1, 30)             3840      \n",
      "                                                                 \n",
      " dropout (Dropout)           (None, 1, 30)             0         \n",
      "                                                                 \n",
      " lstm_1 (LSTM)               (None, 1, 30)             7320      \n",
      "                                                                 \n",
      " dropout_1 (Dropout)         (None, 1, 30)             0         \n",
      "                                                                 \n",
      " lstm_2 (LSTM)               (None, 30)                7320      \n",
      "                                                                 \n",
      " dropout_2 (Dropout)         (None, 30)                0         \n",
      "                                                                 \n",
      " dense (Dense)               (None, 1)                 31        \n",
      "                                                                 \n",
      "=================================================================\n",
      "Total params: 18,511\n",
      "Trainable params: 18,511\n",
      "Non-trainable params: 0\n",
      "_________________________________________________________________\n"
     ]
    }
   ],
   "source": [
    "# Summarize the model\n",
    "model.summary()"
   ]
  },
  {
   "cell_type": "code",
   "execution_count": 25,
   "id": "59421794",
   "metadata": {},
   "outputs": [
    {
     "name": "stdout",
     "output_type": "stream",
     "text": [
      "Epoch 1/50\n",
      "353/353 [==============================] - 3s 1ms/step - loss: 0.0405\n",
      "Epoch 2/50\n",
      "353/353 [==============================] - 0s 1ms/step - loss: 0.0215\n",
      "Epoch 3/50\n",
      "353/353 [==============================] - 0s 1ms/step - loss: 0.0175\n",
      "Epoch 4/50\n",
      "353/353 [==============================] - 0s 1ms/step - loss: 0.0113\n",
      "Epoch 5/50\n",
      "353/353 [==============================] - 0s 1ms/step - loss: 0.0047\n",
      "Epoch 6/50\n",
      "353/353 [==============================] - 0s 1ms/step - loss: 0.0031\n",
      "Epoch 7/50\n",
      "353/353 [==============================] - 0s 1ms/step - loss: 0.0025\n",
      "Epoch 8/50\n",
      "353/353 [==============================] - 0s 1ms/step - loss: 0.0026\n",
      "Epoch 9/50\n",
      "353/353 [==============================] - 0s 1ms/step - loss: 0.0034\n",
      "Epoch 10/50\n",
      "353/353 [==============================] - 0s 1ms/step - loss: 0.0028\n",
      "Epoch 11/50\n",
      "353/353 [==============================] - 0s 1ms/step - loss: 0.0027\n",
      "Epoch 12/50\n",
      "353/353 [==============================] - 0s 1ms/step - loss: 0.0024\n",
      "Epoch 13/50\n",
      "353/353 [==============================] - 0s 1ms/step - loss: 0.0026\n",
      "Epoch 14/50\n",
      "353/353 [==============================] - 0s 1ms/step - loss: 0.0019\n",
      "Epoch 15/50\n",
      "353/353 [==============================] - 0s 1ms/step - loss: 0.0029\n",
      "Epoch 16/50\n",
      "353/353 [==============================] - 0s 1ms/step - loss: 0.0029\n",
      "Epoch 17/50\n",
      "353/353 [==============================] - 0s 1ms/step - loss: 0.0020\n",
      "Epoch 18/50\n",
      "353/353 [==============================] - 0s 1ms/step - loss: 0.0018\n",
      "Epoch 19/50\n",
      "353/353 [==============================] - 0s 1ms/step - loss: 0.0024\n",
      "Epoch 20/50\n",
      "353/353 [==============================] - 0s 1ms/step - loss: 0.0024\n",
      "Epoch 21/50\n",
      "353/353 [==============================] - 0s 1ms/step - loss: 0.0025\n",
      "Epoch 22/50\n",
      "353/353 [==============================] - 0s 1ms/step - loss: 0.0027\n",
      "Epoch 23/50\n",
      "353/353 [==============================] - 0s 1ms/step - loss: 0.0019\n",
      "Epoch 24/50\n",
      "353/353 [==============================] - 0s 1ms/step - loss: 0.0024\n",
      "Epoch 25/50\n",
      "353/353 [==============================] - 0s 1ms/step - loss: 0.0025\n",
      "Epoch 26/50\n",
      "353/353 [==============================] - 0s 1ms/step - loss: 0.0022\n",
      "Epoch 27/50\n",
      "353/353 [==============================] - 0s 1ms/step - loss: 0.0022\n",
      "Epoch 28/50\n",
      "353/353 [==============================] - 0s 1ms/step - loss: 0.0024\n",
      "Epoch 29/50\n",
      "353/353 [==============================] - 0s 1ms/step - loss: 0.0023\n",
      "Epoch 30/50\n",
      "353/353 [==============================] - 0s 1ms/step - loss: 0.0024\n",
      "Epoch 31/50\n",
      "353/353 [==============================] - 0s 1ms/step - loss: 0.0025\n",
      "Epoch 32/50\n",
      "353/353 [==============================] - 0s 1ms/step - loss: 0.0023\n",
      "Epoch 33/50\n",
      "353/353 [==============================] - 0s 1ms/step - loss: 0.0018\n",
      "Epoch 34/50\n",
      "353/353 [==============================] - 0s 1ms/step - loss: 0.0025\n",
      "Epoch 35/50\n",
      "353/353 [==============================] - 0s 1ms/step - loss: 0.0023\n",
      "Epoch 36/50\n",
      "353/353 [==============================] - 0s 1ms/step - loss: 0.0019\n",
      "Epoch 37/50\n",
      "353/353 [==============================] - 0s 1ms/step - loss: 0.0024\n",
      "Epoch 38/50\n",
      "353/353 [==============================] - 0s 1ms/step - loss: 0.0018\n",
      "Epoch 39/50\n",
      "353/353 [==============================] - 0s 1ms/step - loss: 0.0025\n",
      "Epoch 40/50\n",
      "353/353 [==============================] - 0s 1ms/step - loss: 0.0021\n",
      "Epoch 41/50\n",
      "353/353 [==============================] - 0s 1ms/step - loss: 0.0021\n",
      "Epoch 42/50\n",
      "353/353 [==============================] - 0s 1ms/step - loss: 0.0022\n",
      "Epoch 43/50\n",
      "353/353 [==============================] - 0s 1ms/step - loss: 0.0027\n",
      "Epoch 44/50\n",
      "353/353 [==============================] - 0s 1ms/step - loss: 0.0021\n",
      "Epoch 45/50\n",
      "353/353 [==============================] - 0s 1ms/step - loss: 0.0026\n",
      "Epoch 46/50\n",
      "353/353 [==============================] - 0s 1ms/step - loss: 0.0026\n",
      "Epoch 47/50\n",
      "353/353 [==============================] - 0s 1ms/step - loss: 0.0018\n",
      "Epoch 48/50\n",
      "353/353 [==============================] - 0s 1ms/step - loss: 0.0022\n",
      "Epoch 49/50\n",
      "353/353 [==============================] - 0s 1ms/step - loss: 0.0022\n",
      "Epoch 50/50\n",
      "353/353 [==============================] - 0s 1ms/step - loss: 0.0023\n"
     ]
    },
    {
     "data": {
      "text/plain": [
       "<keras.callbacks.History at 0x202babd07c8>"
      ]
     },
     "execution_count": 25,
     "metadata": {},
     "output_type": "execute_result"
    }
   ],
   "source": [
    "\n",
    "# Train the model\n",
    "# Use at least 50 epochs\n",
    "# Do not shuffle the data\n",
    "model.fit(X_train, y_train, epochs = 50, shuffle = False, batch_size = 1, verbose = 1)"
   ]
  },
  {
   "cell_type": "code",
   "execution_count": null,
   "id": "899be575",
   "metadata": {},
   "outputs": [],
   "source": []
  },
  {
   "cell_type": "code",
   "execution_count": 26,
   "id": "4c27262d",
   "metadata": {},
   "outputs": [
    {
     "name": "stdout",
     "output_type": "stream",
     "text": [
      "5/5 [==============================] - 1s 1ms/step - loss: 0.0065\n"
     ]
    },
    {
     "data": {
      "text/plain": [
       "0.00652803061529994"
      ]
     },
     "execution_count": 26,
     "metadata": {},
     "output_type": "execute_result"
    }
   ],
   "source": [
    "# Evaluate the model\n",
    "model.evaluate(X_test, y_test)"
   ]
  },
  {
   "cell_type": "code",
   "execution_count": 27,
   "id": "d4d5213a",
   "metadata": {},
   "outputs": [
    {
     "name": "stdout",
     "output_type": "stream",
     "text": [
      "5/5 [==============================] - 1s 1ms/step\n"
     ]
    }
   ],
   "source": [
    "# Make some predictions\n",
    "predicted = model.predict(X_test)"
   ]
  },
  {
   "cell_type": "code",
   "execution_count": 28,
   "id": "55887e4b",
   "metadata": {},
   "outputs": [],
   "source": [
    "# Recover the original prices instead of the scaled version\n",
    "predicted_prices = scaler.inverse_transform(predicted)\n",
    "real_prices = scaler.inverse_transform(y_test.reshape(-1, 1))"
   ]
  },
  {
   "cell_type": "code",
   "execution_count": 29,
   "id": "c8391080",
   "metadata": {},
   "outputs": [
    {
     "data": {
      "text/html": [
       "<div>\n",
       "<style scoped>\n",
       "    .dataframe tbody tr th:only-of-type {\n",
       "        vertical-align: middle;\n",
       "    }\n",
       "\n",
       "    .dataframe tbody tr th {\n",
       "        vertical-align: top;\n",
       "    }\n",
       "\n",
       "    .dataframe thead th {\n",
       "        text-align: right;\n",
       "    }\n",
       "</style>\n",
       "<table border=\"1\" class=\"dataframe\">\n",
       "  <thead>\n",
       "    <tr style=\"text-align: right;\">\n",
       "      <th></th>\n",
       "      <th>Real</th>\n",
       "      <th>Predicted</th>\n",
       "    </tr>\n",
       "  </thead>\n",
       "  <tbody>\n",
       "    <tr>\n",
       "      <th>0</th>\n",
       "      <td>3467.209961</td>\n",
       "      <td>3793.821777</td>\n",
       "    </tr>\n",
       "    <tr>\n",
       "      <th>1</th>\n",
       "      <td>3467.209961</td>\n",
       "      <td>3820.920410</td>\n",
       "    </tr>\n",
       "    <tr>\n",
       "      <th>2</th>\n",
       "      <td>3434.129883</td>\n",
       "      <td>3820.920410</td>\n",
       "    </tr>\n",
       "    <tr>\n",
       "      <th>3</th>\n",
       "      <td>3461.629883</td>\n",
       "      <td>3802.598877</td>\n",
       "    </tr>\n",
       "    <tr>\n",
       "      <th>4</th>\n",
       "      <td>3508.679932</td>\n",
       "      <td>3817.826172</td>\n",
       "    </tr>\n",
       "  </tbody>\n",
       "</table>\n",
       "</div>"
      ],
      "text/plain": [
       "          Real    Predicted\n",
       "0  3467.209961  3793.821777\n",
       "1  3467.209961  3820.920410\n",
       "2  3434.129883  3820.920410\n",
       "3  3461.629883  3802.598877\n",
       "4  3508.679932  3817.826172"
      ]
     },
     "execution_count": 29,
     "metadata": {},
     "output_type": "execute_result"
    }
   ],
   "source": [
    "# Create a DataFrame of Real and Predicted values\n",
    "crypto = pd.DataFrame({\n",
    "    \"Real\": real_prices.ravel(),\n",
    "    \"Predicted\": predicted_prices.ravel()\n",
    "})\n",
    "crypto.head()"
   ]
  },
  {
   "cell_type": "code",
   "execution_count": 30,
   "id": "09834804",
   "metadata": {},
   "outputs": [
    {
     "data": {
      "text/plain": [
       "<AxesSubplot:>"
      ]
     },
     "execution_count": 30,
     "metadata": {},
     "output_type": "execute_result"
    },
    {
     "data": {
      "image/png": "[encoded data removed]",
      "text/plain": [
       "<Figure size 640x480 with 1 Axes>"
      ]
     },
     "metadata": {},
     "output_type": "display_data"
    }
   ],
   "source": [
    "# Plot the real vs predicted values as a line chart\n",
    "crypto.plot()"
   ]
  }
 ],
 "metadata": {
  "kernelspec": {
   "display_name": "Python 3 (ipykernel)",
   "language": "python",
   "name": "python3"
  },
  "language_info": {
   "codemirror_mode": {
    "name": "ipython",
    "version": 3
   },
   "file_extension": ".py",
   "mimetype": "text/x-python",
   "name": "python",
   "nbconvert_exporter": "python",
   "pygments_lexer": "ipython3",
   "version": "3.7.13"
  }
 },
 "nbformat": 4,
 "nbformat_minor": 5
}
